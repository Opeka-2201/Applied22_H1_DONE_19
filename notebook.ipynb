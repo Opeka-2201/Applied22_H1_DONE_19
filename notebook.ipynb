{
 "cells": [
  {
   "cell_type": "markdown",
   "metadata": {
    "cell_id": "1f052096dbe24ec8ada742e8cf547636",
    "deepnote_cell_height": 82,
    "deepnote_cell_type": "markdown",
    "tags": []
   },
   "source": [
    "# ELEN0071-1 - Homework 1"
   ]
  },
  {
   "cell_type": "markdown",
   "metadata": {
    "cell_id": "e3c902ca-9837-48db-aa23-b9bbcbfb2a7a",
    "deepnote_app_coordinates": {
     "h": 5,
     "w": 12,
     "x": 0,
     "y": null
    },
    "deepnote_cell_height": 445.984375,
    "deepnote_cell_type": "markdown"
   },
   "source": [
    "## Instructions\n",
    "\n",
    "- This homework must be carried out in groups of maximum 2 students.\n",
    "\n",
    "- Each group must write a Python notebook (named `notebook.ipynb`) that contains the answer to all questions of the homework. Each group must submit a single *zip* archive  that contains the notebook and all input/output associated files on [Gradescope](https://www.gradescope.com/). \n",
    "\n",
    "- This homework is due by April 20, 2022 at 10pm. This is a hard deadline.\n",
    "\n",
    "\n",
    "## Gradescope submission\n",
    "\n",
    "- Each student should register on [Gradescope](https://www.gradescope.com/) using his or her `@student.uliege.be` address. If you don't see the class ELEN0071-1 on your dashboard, contact us on [Ed](https://edstem.org/us/dashboard) as soon as possible (don't wait the day before the deadline ;-). \n",
    "\n",
    "- Each group should submit a *zip* archive on [Gradescope](https://www.gradescope.com/). Make sure that all group members are correctly added to the submission!\n",
    "\n",
    "If you are not familiar with Gradescope, please click on each step of the following guideline:\n",
    "- [Code submission](https://help.gradescope.com/article/ccbpppziu9-student-submit-work#code_submissions), \n",
    "- [Adding group members](https://help.gradescope.com/article/m5qz2xsnjy-student-add-group-members).\n"
   ]
  },
  {
   "cell_type": "markdown",
   "metadata": {
    "cell_id": "ddb2118d-c7cb-4893-94b6-b766d3ac6f3b",
    "deepnote_app_coordinates": {
     "h": 5,
     "w": 12,
     "x": 0,
     "y": 6
    },
    "deepnote_cell_height": 913.203125,
    "deepnote_cell_type": "markdown",
    "tags": []
   },
   "source": [
    "## Question 1\n",
    "\n",
    "Few years ago, Professor Sacré attended the TEDx talk Damien Ernst gave in Liège. He recorded his presentation with his phone. However, Professor Sacré's seat was far from the scene and the room had bad acoustic properties, resulting in a poor quality recording, stored in the file `./audio/TEDx_echo.wav`. Professor Sacré wants to broadcast it on *Holystone Radio* but he needs to process the signal first. More precisely, the signal is affected by an echo that needs to be removed. Since you are his best student, he kindly asks you to do this job for him in exchange for all his gratitude.\n",
    "\n",
    "Let's call $y[n]$ the signal affected by echo. After some analyses, Professor Sacré was able to tell that the signal with echo had the structure $y[n] = x[n] + R \\cdot x[n-D]$, where $x[n]$ is the signal without echo, $D$ is a delay expressed in number of samples, and $R \\in (0,1)$. Professor Sacré also told you that the autocorrelation function $r_{y}[l]$ will help you fulfilling the next tasks. As a reminder, $r_{y}[l] = \\sum\\limits_{n=-\\infty}^{+\\infty}y[n]y[n-l]$.\n",
    "\n",
    "**(a)** Listen to the audio signal `./audio/TEDx_echo.wav`. Load the signal within Python and plot it in the time domain (with the x-axis expressed in second).\n",
    "\n",
    "**(b)** Compute the autocorrelation $r_{y}[l]$. Plot this autocorrelation for lags going from $-N+1$ to $N-1$. You should see three local maxima, one of those being located at $l=0$.\n",
    "\n",
    "*Hint:* Use the function `numpy.correlate` with the parameter `mode=\"full\"`. If $y[n]$ counts $N$ samples, the function `numpy.correlate` used in this mode returns $r_{y}[l]$ with $l\\in[-N+1,N-1]$. \n",
    "\n",
    "**(c)** Show analytically that the autocorrelation function of signal $y[n]$ can be written as $r_{y}[l] = (1+R^2)r_{x}[l] + R r_{x}[l-D] + R r_{x}[l+D]$.\n",
    "\n",
    "**(d)** Knowing that the autocorrelation of a signal is always maximum at 0 and looking at the relationship in (c), find the value of the delay $D$.\n",
    "\n",
    "*Hint: Use of the function `peaks_detector` that is given to you.*\n",
    "\n",
    "**(e)** Assuming that $r_{x}[\\pm D]$ and $\\, r_{x}[2D] \\ll r_{x}[0]$ (*i.e.* $r_{x}[\\pm D]$ and $r_{x}[2D]$ can be neglected), show analytically that $\\frac{r_{y}[0]}{r_{y}[D]} \\approx \\frac{1+R^2}{R}$. Find numerically the value of $R$.\n",
    "\n",
    "\n",
    "**(f)** Now that you found the values of $R$ and $D$, design a filter that removes the echo from the signal $y$. Give the expression of the transfer function $H(z)$ of this filter. Compute and plot the filtered signal using this filter. Also, listen to the signal and verify that the echo has been removed.\n",
    "\n",
    "Format the filtered signal by executing the line `format_signal = numpy.int16(filtered_signal/numpy.max(numpy.abs(filtered_signal)) * 32767)` and save it into the file `./results/TEDx_without_echo.wav` using the function `scipy.io.wavfile.write`.\n",
    "\n",
    "*Hint: This cannot be done in the time domain. Try to express $X(z)$ as a function of $Y(z)$.*\n",
    "\n",
    "\n"
   ]
  },
  {
   "cell_type": "code",
   "execution_count": 6,
   "metadata": {
    "cell_id": "00002-06b57bfa-6e4e-47ed-8113-d619c159701e",
    "deepnote_app_coordinates": {
     "h": 5,
     "w": 12,
     "x": 0,
     "y": 12
    },
    "deepnote_cell_height": 873,
    "deepnote_cell_type": "code",
    "deepnote_to_be_reexecuted": false,
    "execution_millis": 721,
    "execution_start": 1648063895229,
    "source_hash": "a5cc96fa"
   },
   "outputs": [],
   "source": [
    "import numpy as np\n",
    "from scipy.signal import find_peaks\n",
    "\n",
    "# ===========================================================\n",
    "# PEAKS DETECTOR\n",
    "#\n",
    "# This function detects the nb_peaks first biggest peaks in a\n",
    "# vector vec. The magnitude of a peak is defined has the \n",
    "# difference between the value at the peak and the value of \n",
    "# its neighboor samples.\n",
    "#\n",
    "# ARGUMENTS:\n",
    "#    * vec: 1D-array in which peaks needs to be search.\n",
    "#    * nb_peaks: the number of peaks to detect.\n",
    "#\n",
    "# RETURN:\n",
    "#    The indices of the nb_peaks found in vec\n",
    "# ===========================================================\n",
    "def peaks_detector(vec, nb_peaks=1):\n",
    "    thrd = 0\n",
    "    thrd_step = 0.001 * np.max(np.abs(vec))\n",
    "    peaks_idx, prop = find_peaks(vec, threshold=thrd)\n",
    "    \n",
    "    while(len(peaks_idx) > nb_peaks):\n",
    "        thrd += thrd_step\n",
    "        peaks_idx, prop = find_peaks(vec, threshold=thrd)\n",
    "        \n",
    "    if len(peaks_idx) != nb_peaks:\n",
    "        bound_a = thrd - thrd_step\n",
    "        bound_b = thrd\n",
    "        thrd = (bound_a + bound_b)/2\n",
    "        peaks_idx, prop = find_peaks(vec, threshold=thrd)\n",
    "        \n",
    "        while(len(peaks_idx) != nb_peaks):\n",
    "            if len(peaks_idx) < nb_peaks:\n",
    "                bound_b = thrd\n",
    "            else:\n",
    "                bound_a = thrd\n",
    "            \n",
    "            bound_a = thrd - thrd_step\n",
    "            bound_b = thrd\n",
    "            thrd = (bound_a + bound_b)/2\n",
    "            peaks_idx, prop = find_peaks(vec, threshold=thrd)\n",
    "        \n",
    "    return peaks_idx"
   ]
  },
  {
   "cell_type": "markdown",
   "metadata": {
    "cell_id": "89c36bc91eff4b5b8edc17d37365a03e",
    "deepnote_cell_height": 62,
    "deepnote_cell_type": "markdown",
    "tags": []
   },
   "source": [
    "### Solution Q1 (a)"
   ]
  },
  {
   "cell_type": "code",
   "execution_count": 7,
   "metadata": {
    "cell_id": "4d13079bd7794f5b81029007be6ff6bc",
    "deepnote_cell_height": 81,
    "deepnote_cell_type": "code",
    "deepnote_to_be_reexecuted": false,
    "execution_millis": 7,
    "execution_start": 1648063895958,
    "source_hash": "33691de7",
    "tags": []
   },
   "outputs": [
    {
     "data": {
      "image/png": "[encoded data removed]",
      "text/plain": [
       "<Figure size 432x288 with 1 Axes>"
      ]
     },
     "metadata": {
      "needs_background": "light"
     },
     "output_type": "display_data"
    }
   ],
   "source": [
    "from scipy.io import wavfile\n",
    "import matplotlib.pyplot as plt\n",
    "import numpy as np\n",
    "from math import sqrt\n",
    "\n",
    "tedx_sample_rate, tedx_data = wavfile.read('./audio/TEDx_echo.wav')\n",
    "\n",
    "n_tedx = len(tedx_data)\n",
    "\n",
    "time_tedx = np.arange(0, n_tedx)/tedx_sample_rate\n",
    "\n",
    "plt.figure()\n",
    "plt.plot(time_tedx, tedx_data)\n",
    "plt.title('Audio signal with echo')\n",
    "plt.xlabel('Time [s]')\n",
    "plt.ylabel('Audio signal')\n",
    "plt.legend(['TEDx'])\n",
    "plt.show()"
   ]
  },
  {
   "cell_type": "markdown",
   "metadata": {
    "cell_id": "6a0a9b3553fa40799ab656565bd2dbdc",
    "deepnote_cell_height": 62,
    "deepnote_cell_type": "markdown",
    "tags": []
   },
   "source": [
    "### Solution Q1 (b)"
   ]
  },
  {
   "cell_type": "code",
   "execution_count": 8,
   "metadata": {
    "cell_id": "c1a5cd9be49c44e3ade5d8418d3d3751",
    "deepnote_cell_height": 81,
    "deepnote_cell_type": "code",
    "deepnote_to_be_reexecuted": false,
    "execution_millis": 0,
    "execution_start": 1648063895996,
    "source_hash": "33691de7",
    "tags": []
   },
   "outputs": [
    {
     "data": {
      "image/png": "[encoded data removed]",
      "text/plain": [
       "<Figure size 432x288 with 1 Axes>"
      ]
     },
     "metadata": {
      "needs_background": "light"
     },
     "output_type": "display_data"
    }
   ],
   "source": [
    "tedx_data_normalized = tedx_data/np.mean(tedx_data)\n",
    "\n",
    "r_l = np.correlate(tedx_data_normalized, tedx_data_normalized, mode = 'full')\n",
    "\n",
    "# Center the autocorrelation\n",
    "n_r_l = np.linspace(((-tedx_sample_rate/2)+1),((tedx_sample_rate/2)-1),len(r_l))\n",
    "\n",
    "plt.figure()\n",
    "plt.plot(n_r_l,r_l)\n",
    "plt.title('Autocorrelation of the signal to detect peaks')\n",
    "plt.xlabel('l')\n",
    "plt.ylabel('Autocorrelation')\n",
    "plt.legend(['TEDx'])\n",
    "plt.show()"
   ]
  },
  {
   "cell_type": "markdown",
   "metadata": {
    "cell_id": "c2314d6ff22345fdb0d11e7e2612db0d",
    "deepnote_cell_height": 62,
    "deepnote_cell_type": "markdown",
    "tags": []
   },
   "source": [
    "### Solution Q1 (c)"
   ]
  },
  {
   "cell_type": "markdown",
   "metadata": {},
   "source": [
    "Our signal can be expressed as :\n",
    "\n",
    "\\begin{equation*}\n",
    "  y[n] = x[n] + R \\cdot x[n-D]\n",
    "\\end{equation*}\n",
    "\n",
    "By taking $n = n-l$\n",
    "\n",
    "\\begin{equation*}\n",
    "  y[n-l] = x[n-l] + R \\cdot x[n-l-D]\n",
    "\\end{equation*}\n",
    "\n",
    "By taking into account the autocorrelation function :\n",
    "\\begin{align*}\n",
    "  r_y[l] &= \\sum_{n = - \\infty}^{+ \\infty} y[n]y[n-l]\\\\\n",
    "  r_y[l] &= \\sum_{n = - \\infty}^{+ \\infty} (x[n] + R \\cdot x[n-D]) \\cdot (x[n-l] + R \\cdot x[n-l-D])\\\\\n",
    "  r_y[l] &= \\underbrace{\\sum_{n = - \\infty}^{+ \\infty} (x[n] \\cdot x[n-l])}_\\text{autocorrelation $r_x[l]$} + \\sum_{n = - \\infty}^{+ \\infty} (R \\cdot x[n - D] \\cdot x[n-l]) + \\sum_{n = - \\infty}^{+ \\infty} (R \\cdot x[n] \\cdot x[n-l-D]) + \\underbrace{\\sum_{n = - \\infty}^{+ \\infty} (R^2 \\cdot x[n-D] \\cdot x[n-l-D])}_\\text{$R^2 \\cdot$ autocorrelation $r_x[l]$ delayed by D}\n",
    "\\end{align*}\n",
    "\n",
    "Let's now determine the other dual product terms :\n",
    "\n",
    "By taking a delay $D$ into consideration in $r_x[l]$ :\n",
    "\\begin{equation*}\n",
    "  r_x[l-D] = \\sum_{n = - \\infty}^{+ \\infty}(x[n] \\cdot x[n-(l-D)]) = \\sum_{n = - \\infty}^{+ \\infty}(x[n] \\cdot x[n-l+D])\n",
    "\\end{equation*}\n",
    "\n",
    "Which is the second term of the dual product.\n",
    "\n",
    "On the opposite :\n",
    "\\begin{equation*}\n",
    "  r_x[l+D] = \\sum_{n = - \\infty}^{+ \\infty}(x[n] \\cdot x[n-(l+D)]) = \\sum_{n = - \\infty}^{+ \\infty} (x[n] \\cdot x[n-l-D])\n",
    "\\end{equation*}\n",
    "\n",
    "Which is the third term of the dual product.\n",
    "\n",
    "By combining everything together we find :\n",
    "\\begin{align*}\n",
    "  r_y[l] & = r_x[l] + R \\cdot r_x[l-D] + R \\cdot r_x[l+D] + R^2 \\cdot r_x[l] \\\\\n",
    "  &= (1+R^2) r_x[l] + R \\cdot r_x[l-D] + R \\cdot r_x[l+D] \n",
    "\\end{align*}\n",
    "\n",
    "Which was the expected result."
   ]
  },
  {
   "cell_type": "markdown",
   "metadata": {
    "cell_id": "77e1f412f86844e8be2871395ce67a47",
    "deepnote_cell_height": 62,
    "deepnote_cell_type": "markdown",
    "tags": []
   },
   "source": [
    "### Solution Q1 (d)"
   ]
  },
  {
   "cell_type": "code",
   "execution_count": 9,
   "metadata": {
    "cell_id": "4db7adcf0f30446cb27b13cc9be5b346",
    "deepnote_cell_height": 81,
    "deepnote_cell_type": "code",
    "deepnote_to_be_reexecuted": false,
    "execution_millis": 306005,
    "execution_start": 1648063895997,
    "source_hash": "33691de7",
    "tags": []
   },
   "outputs": [
    {
     "name": "stdout",
     "output_type": "stream",
     "text": [
      "First delay =  20727\n",
      "Second delay =  20727\n"
     ]
    }
   ],
   "source": [
    "# Detect peaks using provided function\n",
    "peaks = peaks_detector(r_l,3)\n",
    "\n",
    "# Compute the delays\n",
    "delay_1 = peaks[1] - peaks[0]\n",
    "delay_2 = peaks[2] - peaks[1]\n",
    "\n",
    "print('First delay = ', delay_1)\n",
    "print('Second delay = ', delay_2)"
   ]
  },
  {
   "cell_type": "markdown",
   "metadata": {
    "cell_id": "99104fc2292449b08d616104f397915c",
    "deepnote_cell_height": 62,
    "deepnote_cell_type": "markdown",
    "tags": []
   },
   "source": [
    "### Solution Q1 (e)"
   ]
  },
  {
   "cell_type": "markdown",
   "metadata": {},
   "source": []
  },
  {
   "cell_type": "code",
   "execution_count": 11,
   "metadata": {
    "cell_id": "04272f71798745f3a97da771508a7147",
    "deepnote_cell_height": 81,
    "deepnote_cell_type": "code",
    "deepnote_to_be_reexecuted": false,
    "execution_millis": 306003,
    "execution_start": 1648063895999,
    "source_hash": "33691de7",
    "tags": []
   },
   "outputs": [
    {
     "name": "stdout",
     "output_type": "stream",
     "text": [
      "R_1 =  1.3337824950143666\n",
      "R_2 =  0.7497474316374415\n",
      "R_1 needs to be excluded for being outside of accepted range\n"
     ]
    }
   ],
   "source": [
    "# Simply solve 2nd degree equation R^2 - (r_l[0]/r_l[D])R + 1 = 0\n",
    "\n",
    "r_l_ratio = r_l[peaks[1]]/r_l[peaks[2]]\n",
    "\n",
    "delta = r_l_ratio**2 - 4\n",
    "R_1 = (r_l_ratio + sqrt(delta))/2\n",
    "R_2 = (r_l_ratio - sqrt(delta))/2\n",
    "\n",
    "print('R_1 = ',R_1)\n",
    "print('R_2 = ',R_2)\n",
    "print('R_1 needs to be excluded for being outside of accepted range')\n"
   ]
  },
  {
   "cell_type": "markdown",
   "metadata": {
    "cell_id": "0dfc45779f3b4f6cb140893c86f080b3",
    "deepnote_cell_height": 62,
    "deepnote_cell_type": "markdown",
    "tags": []
   },
   "source": [
    "### Solution Q1 (f)"
   ]
  },
  {
   "cell_type": "code",
   "execution_count": null,
   "metadata": {
    "cell_id": "4810dd763935432885c74b031d45e492",
    "deepnote_cell_height": 81,
    "deepnote_cell_type": "code",
    "deepnote_to_be_reexecuted": false,
    "execution_millis": 306004,
    "execution_start": 1648063896043,
    "source_hash": "33691de7",
    "tags": []
   },
   "outputs": [],
   "source": []
  },
  {
   "cell_type": "markdown",
   "metadata": {
    "created_in_deepnote_cell": true,
    "deepnote_cell_type": "markdown",
    "tags": []
   },
   "source": [
    "<a style='text-decoration:none;line-height:16px;display:flex;color:#5B5B62;padding:10px;justify-content:end;' href='https://deepnote.com?utm_source=created-in-deepnote-cell&projectId=167b1c1a-b4a9-423c-9bda-84291e0c5320' target=\"_blank\">\n",
    "<img alt='Created in deepnote.com' style='display:inline;max-height:16px;margin:0px;margin-right:7.5px;' src='data:image/svg+xml;base64,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' > </img>\n",
    "Created in <span style='font-weight:600;margin-left:4px;'>Deepnote</span></a>"
   ]
  }
 ],
 "metadata": {
  "deepnote": {
   "is_reactive": false
  },
  "deepnote_app_layout": "article",
  "deepnote_execution_queue": [],
  "deepnote_notebook_id": "3ae4df41-a3f5-4aeb-b0e2-7470b2a7a298",
  "kernelspec": {
   "display_name": "Python 3 (ipykernel)",
   "language": "python",
   "name": "python3"
  },
  "language_info": {
   "codemirror_mode": {
    "name": "ipython",
    "version": 3
   },
   "file_extension": ".py",
   "mimetype": "text/x-python",
   "name": "python",
   "nbconvert_exporter": "python",
   "pygments_lexer": "ipython3",
   "version": "3.8.12"
  }
 },
 "nbformat": 4,
 "nbformat_minor": 2
}
